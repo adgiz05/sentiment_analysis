{
 "cells": [
  {
   "cell_type": "code",
   "execution_count": 1,
   "metadata": {},
   "outputs": [
    {
     "name": "stderr",
     "output_type": "stream",
     "text": [
      "c:\\Users\\adrig\\anaconda3\\envs\\pytorch\\lib\\site-packages\\tqdm\\auto.py:21: TqdmWarning: IProgress not found. Please update jupyter and ipywidgets. See https://ipywidgets.readthedocs.io/en/stable/user_install.html\n",
      "  from .autonotebook import tqdm as notebook_tqdm\n"
     ]
    }
   ],
   "source": [
    "import pandas as pd\n",
    "import numpy as np\n",
    "from transformers import AutoModel, AutoTokenizer, AutoConfig\n",
    "from datasets import Dataset, DatasetDict\n",
    "import matplotlib.pyplot as plt\n",
    "import torch\n",
    "import torch.nn as nn\n",
    "import torch.nn.functional as F\n",
    "import torch.optim as optim\n",
    "from torch.optim.lr_scheduler import ReduceLROnPlateau\n",
    "\n",
    "from torch.utils.data import DataLoader\n",
    "from sklearn.model_selection import train_test_split\n",
    "import time\n",
    "from sklearn.metrics import f1_score, accuracy_score\n",
    "import os\n",
    "import pickle\n",
    "import json\n",
    "import IPython\n",
    "\n",
    "SEED = 234523"
   ]
  },
  {
   "cell_type": "code",
   "execution_count": 2,
   "metadata": {},
   "outputs": [],
   "source": [
    "df = pd.read_csv('./dataset/train.csv', index_col='train_idx')\n",
    "df.drop(['label_text'], inplace=True, axis='columns')\n",
    "train, validation = train_test_split(df, test_size=0.25, random_state=SEED)\n",
    "\n",
    "test = pd.read_csv('./dataset/test.csv')\n",
    "\n",
    "dataset = DatasetDict()\n",
    "dataset['train'] = Dataset.from_pandas(train)\n",
    "dataset['validation'] = Dataset.from_pandas(validation)\n",
    "dataset['test'] = Dataset.from_pandas(test)"
   ]
  },
  {
   "cell_type": "code",
   "execution_count": 3,
   "metadata": {},
   "outputs": [
    {
     "name": "stderr",
     "output_type": "stream",
     "text": [
      "Some weights of the model checkpoint at cardiffnlp/twitter-roberta-base-sentiment-latest were not used when initializing RobertaModel: ['classifier.dense.weight', 'classifier.out_proj.bias', 'classifier.dense.bias', 'classifier.out_proj.weight']\n",
      "- This IS expected if you are initializing RobertaModel from the checkpoint of a model trained on another task or with another architecture (e.g. initializing a BertForSequenceClassification model from a BertForPreTraining model).\n",
      "- This IS NOT expected if you are initializing RobertaModel from the checkpoint of a model that you expect to be exactly identical (initializing a BertForSequenceClassification model from a BertForSequenceClassification model).\n"
     ]
    }
   ],
   "source": [
    "device = 'cuda' if torch.cuda.is_available() else 'cpu'\n",
    "MODEL_NAME = 'cardiffnlp/twitter-roberta-base-sentiment-latest'\n",
    "\n",
    "tokenizer = AutoTokenizer.from_pretrained(MODEL_NAME)\n",
    "config = AutoConfig.from_pretrained(MODEL_NAME)\n",
    "pretrained_model = AutoModel.from_pretrained(MODEL_NAME)"
   ]
  },
  {
   "cell_type": "code",
   "execution_count": 4,
   "metadata": {},
   "outputs": [
    {
     "name": "stderr",
     "output_type": "stream",
     "text": [
      "                                                                 \r"
     ]
    }
   ],
   "source": [
    "def tokenize(batch):\n",
    "    tokens = tokenizer(batch['text'], padding='max_length', truncation=True, max_length=512)\n",
    "    batch['input_ids'], batch['attention_mask'] = tokens['input_ids'], tokens['attention_mask']\n",
    "    return batch\n",
    "\n",
    "dataset = dataset.map(tokenize)\n",
    "\n",
    "dataset['train'].set_format('pt', columns=['input_ids', 'attention_mask', 'label'])\n",
    "dataset['validation'].set_format('pt', columns=['input_ids', 'attention_mask', 'label'])\n",
    "dataset['test'].set_format('pt', columns=['input_ids', 'attention_mask'])\n",
    "\n",
    "dataset['train'] = dataset['train'].remove_columns(['text', 'train_idx'])\n",
    "dataset['validation'] = dataset['validation'].remove_columns(['text', 'train_idx'])\n",
    "dataset['test'] = dataset['test'].remove_columns(['text', 'test_idx'])"
   ]
  },
  {
   "cell_type": "code",
   "execution_count": 5,
   "metadata": {},
   "outputs": [],
   "source": [
    "class SentimentAnalysis(nn.Module):\n",
    "    def __init__(self):\n",
    "        super(SentimentAnalysis, self).__init__()\n",
    "        self.roberta = pretrained_model\n",
    "        self.fc1 = nn.Linear(768, 512)\n",
    "        self.activation1 = nn.GELU()\n",
    "        self.output = nn.Linear(512, 2)\n",
    "\n",
    "    def forward(self, input_ids, attention_mask):\n",
    "        x = self.roberta(input_ids, attention_mask).pooler_output\n",
    "        x = self.activation1(self.fc1(x))\n",
    "        x = torch.softmax(self.output(x), dim=-1)\n",
    "        return x"
   ]
  },
  {
   "cell_type": "code",
   "execution_count": 6,
   "metadata": {},
   "outputs": [],
   "source": [
    "BATCH_SIZE = 4\n",
    "STEPS_PER_EPOCH = len(dataset['train']) // BATCH_SIZE\n",
    "\n",
    "train_loader = DataLoader(dataset['train'], batch_size=BATCH_SIZE, shuffle=True)\n",
    "validation_loader = DataLoader(dataset['validation'], batch_size=BATCH_SIZE, shuffle=True)\n",
    "test_loader = DataLoader(dataset['test'], batch_size=BATCH_SIZE, shuffle=False)"
   ]
  },
  {
   "cell_type": "code",
   "execution_count": 7,
   "metadata": {},
   "outputs": [],
   "source": [
    "## It creates the [==>.....] progress bar\n",
    "def progress_bar(b_idx, perc_steps=25):\n",
    "    perc_epoch = int(b_idx / STEPS_PER_EPOCH * perc_steps)\n",
    "    perc_left = perc_steps - perc_epoch\n",
    "    return perc_epoch, perc_left\n",
    "\n",
    "## It computes the accumulative f1 for the train set\n",
    "def train_metrics(b_idx, outputs, labels, y_true, y_pred):\n",
    "    if b_idx == 0: \n",
    "        y_true = labels.detach().cpu().numpy()\n",
    "        y_pred = torch.argmax(outputs, dim=1).detach().cpu().numpy()\n",
    "    else: \n",
    "        y_true = np.concatenate((y_true, labels.detach().cpu().numpy()))\n",
    "        y_pred = np.concatenate((y_pred, torch.argmax(outputs, dim=1).detach().cpu().numpy()))\n",
    "    \n",
    "    return f1_score(y_true, y_pred), y_true, y_pred\n",
    "\n",
    "## It computes the estimated time average based on some batch_avg_time * steps_left\n",
    "def compute_eta(b_idx, start_batch, batch_times):\n",
    "    batch_times.append(time.time() - start_batch)\n",
    "    if b_idx == 0: batch_avg_time = batch_times[0]\n",
    "    else: \n",
    "        batch_times = batch_times[-10:]\n",
    "        batch_avg_time = sum(batch_times) / len(batch_times)\n",
    "    \n",
    "    seconds_left = (STEPS_PER_EPOCH - b_idx) * batch_avg_time\n",
    "    if seconds_left > 60: eta = time.strftime('%M:%S', time.gmtime(seconds_left))\n",
    "    else: eta = f'{seconds_left:.2f} s'\n",
    "\n",
    "    return eta, batch_times\n",
    "\n",
    "## When the epoch finishes, it shows instead of ETA the time the epoch lasted\n",
    "def time_epoch(start_epoch):\n",
    "    return f'{int(time.time() - start_epoch)} s'\n",
    "\n",
    "## Common validation step that compute f1\n",
    "def validation_step(model, criterion):\n",
    "    model.eval()\n",
    "    y_pred, y_true = [], []\n",
    "    val_losses = []\n",
    "\n",
    "    with torch.no_grad():\n",
    "        for batch in validation_loader:\n",
    "            input_ids, attention_masks = batch['input_ids'].to(device), batch['attention_mask'].to(device)\n",
    "            labels = batch['label'].to(device)\n",
    "\n",
    "            outputs = model(input_ids, attention_masks)\n",
    "            val_losses.append(criterion(outputs, labels).item())\n",
    "            batch_pred = torch.argmax(outputs, dim=1).detach().cpu().numpy()\n",
    "            y_pred.append(batch_pred)\n",
    "            y_true.append(labels.detach().cpu().numpy())\n",
    "            \n",
    "    y_pred, y_true = np.concatenate(y_pred), np.concatenate(y_true)\n",
    "    val_f1 = f1_score(y_true, y_pred)\n",
    "    val_loss = sum(val_losses) / len(val_losses)\n",
    "    \n",
    "    return val_f1, val_loss\n",
    "\n",
    "## Update ReduceLROnPlateu scheduler based on val_loss\n",
    "def scheduler_step(scheduler, val_loss):\n",
    "    scheduler.step(val_loss)\n",
    "    return scheduler\n",
    "\n",
    "## Save best model every epoch based on val_f1\n",
    "def save_model(model, exp, val_f1, best_val_f1):\n",
    "    if val_f1 > best_val_f1:\n",
    "        torch.save(model.state_dict(), f'./models/{exp}/model.pt')\n",
    "        best_val_f1 = val_f1\n",
    "    return best_val_f1\n",
    "\n",
    "## MAIN EPOCH STATUS FUNCTION\n",
    "def epoch_status(b_idx, outputs, labels, start_batch, model, loss, start_epoch, y_true, y_pred, batch_times, best_val_f1, exp, scheduler, criterion):\n",
    "    perc_epoch, perc_left = progress_bar(b_idx)\n",
    "    accumulative_f1, y_true, y_pred = train_metrics(b_idx, outputs, labels, y_true, y_pred)\n",
    "    eta, batch_times = compute_eta(b_idx, start_batch, batch_times)\n",
    "\n",
    "    val_f1, val_loss = False, False\n",
    "    if b_idx == STEPS_PER_EPOCH:\n",
    "        val_f1, val_loss = validation_step(model, criterion)\n",
    "        scheduler = scheduler_step(scheduler, val_loss)\n",
    "        eta = time_epoch(start_epoch)\n",
    "        best_val_f1 = save_model(model, exp, val_f1, best_val_f1)\n",
    "\n",
    "    print(f'{b_idx}/{STEPS_PER_EPOCH}\\t[{\"=\" * perc_epoch}>{\".\" * perc_left}] - ETA: {eta} - loss: {loss.item():.4f} - f1: {accumulative_f1:.4f}{\"\" if not val_f1 else f\" - val_f1: {val_f1:.4f}\"}', end='\\r')\n",
    "    return batch_times, y_true, y_pred, best_val_f1, scheduler, val_loss, accumulative_f1, val_f1"
   ]
  },
  {
   "cell_type": "code",
   "execution_count": 8,
   "metadata": {},
   "outputs": [],
   "source": [
    "def train(model, criterion, optimizer, scheduler, epochs=10, experiment=str(time.time())):\n",
    "    os.makedirs(f'./models/{experiment}', exist_ok=True)\n",
    "    model = model.to(device)\n",
    "\n",
    "    best_val_f1 = 0.0\n",
    "    train_losses, val_losses, train_f1, val_f1 = [], [], [], []\n",
    "    for epoch in range(epochs):\n",
    "        model.train()\n",
    "\n",
    "        print(f'Epoch {epoch+1}/{epochs}')\n",
    "        start_epoch = time.time()\n",
    "        batch_times = [] #contains the times that each batch has lasted\n",
    "        y_true, y_pred = [], [] #accumulates the predictions for each batch\n",
    "        epoch_loss = []\n",
    "\n",
    "        for b_idx, batch in enumerate(train_loader):\n",
    "            start_batch = time.time()\n",
    "\n",
    "            input_ids, attention_masks = batch['input_ids'].to(device), batch['attention_mask'].to(device)\n",
    "            labels = batch['label'].to(device)\n",
    "\n",
    "            optimizer.zero_grad()\n",
    "\n",
    "            outputs = model(input_ids, attention_masks)\n",
    "\n",
    "            loss = criterion(outputs, labels)\n",
    "            epoch_loss.append(loss.item())\n",
    "            loss.backward()\n",
    "\n",
    "            optimizer.step()\n",
    "\n",
    "            batch_times, y_true, y_pred, best_val_f1, scheduler, val_loss, epoch_f1, epoch_val_f1 = epoch_status(b_idx, outputs, labels, start_batch, model, loss, start_epoch, y_true, y_pred, batch_times, best_val_f1, experiment, scheduler, criterion)\n",
    "        \n",
    "        train_losses.append(sum(epoch_loss)/len(epoch_loss))\n",
    "        val_losses.append(val_loss)\n",
    "        train_f1.append(epoch_f1)\n",
    "        val_f1.append(epoch_val_f1)\n",
    "        print()\n",
    "\n",
    "\n",
    "    history = {\n",
    "        'train_loss':train_losses,\n",
    "        'val_loss':val_losses,\n",
    "        'train_f1':train_f1,\n",
    "        'val_f1':val_f1\n",
    "    }\n",
    "    pickle.dump(history, open(f'./models/{experiment}/logs.pkl', 'wb'))\n",
    "\n",
    "    return model, history"
   ]
  },
  {
   "cell_type": "code",
   "execution_count": 9,
   "metadata": {},
   "outputs": [
    {
     "name": "stdout",
     "output_type": "stream",
     "text": [
      "Epoch 1/10\n",
      "39/565\t[=>........................] - ETA: 01:15 - loss: 0.5761 - f1: 0.8900\r"
     ]
    },
    {
     "ename": "KeyboardInterrupt",
     "evalue": "",
     "output_type": "error",
     "traceback": [
      "\u001b[1;31m---------------------------------------------------------------------------\u001b[0m",
      "\u001b[1;31mKeyboardInterrupt\u001b[0m                         Traceback (most recent call last)",
      "\u001b[1;32mc:\\Users\\adrig\\Documents\\DataScienceProjects\\sentiment_analysis\\sentiment_analysis.ipynb Cell 9\u001b[0m in \u001b[0;36m1\n\u001b[0;32m     <a href='vscode-notebook-cell:/c%3A/Users/adrig/Documents/DataScienceProjects/sentiment_analysis/sentiment_analysis.ipynb#X13sZmlsZQ%3D%3D?line=9'>10</a>\u001b[0m scheduler \u001b[39m=\u001b[39m ReduceLROnPlateau(\n\u001b[0;32m     <a href='vscode-notebook-cell:/c%3A/Users/adrig/Documents/DataScienceProjects/sentiment_analysis/sentiment_analysis.ipynb#X13sZmlsZQ%3D%3D?line=10'>11</a>\u001b[0m     optimizer\u001b[39m=\u001b[39moptimizer,\n\u001b[0;32m     <a href='vscode-notebook-cell:/c%3A/Users/adrig/Documents/DataScienceProjects/sentiment_analysis/sentiment_analysis.ipynb#X13sZmlsZQ%3D%3D?line=11'>12</a>\u001b[0m     factor\u001b[39m=\u001b[39m\u001b[39m0.1\u001b[39m,\n\u001b[0;32m     <a href='vscode-notebook-cell:/c%3A/Users/adrig/Documents/DataScienceProjects/sentiment_analysis/sentiment_analysis.ipynb#X13sZmlsZQ%3D%3D?line=12'>13</a>\u001b[0m     patience\u001b[39m=\u001b[39m\u001b[39m5\u001b[39m\n\u001b[0;32m     <a href='vscode-notebook-cell:/c%3A/Users/adrig/Documents/DataScienceProjects/sentiment_analysis/sentiment_analysis.ipynb#X13sZmlsZQ%3D%3D?line=13'>14</a>\u001b[0m )\n\u001b[0;32m     <a href='vscode-notebook-cell:/c%3A/Users/adrig/Documents/DataScienceProjects/sentiment_analysis/sentiment_analysis.ipynb#X13sZmlsZQ%3D%3D?line=15'>16</a>\u001b[0m exp \u001b[39m=\u001b[39m \u001b[39m'\u001b[39m\u001b[39mtesting\u001b[39m\u001b[39m'\u001b[39m\n\u001b[1;32m---> <a href='vscode-notebook-cell:/c%3A/Users/adrig/Documents/DataScienceProjects/sentiment_analysis/sentiment_analysis.ipynb#X13sZmlsZQ%3D%3D?line=16'>17</a>\u001b[0m model, history \u001b[39m=\u001b[39m train(\n\u001b[0;32m     <a href='vscode-notebook-cell:/c%3A/Users/adrig/Documents/DataScienceProjects/sentiment_analysis/sentiment_analysis.ipynb#X13sZmlsZQ%3D%3D?line=17'>18</a>\u001b[0m     model,\n\u001b[0;32m     <a href='vscode-notebook-cell:/c%3A/Users/adrig/Documents/DataScienceProjects/sentiment_analysis/sentiment_analysis.ipynb#X13sZmlsZQ%3D%3D?line=18'>19</a>\u001b[0m     criterion\u001b[39m=\u001b[39;49mcriterion,\n\u001b[0;32m     <a href='vscode-notebook-cell:/c%3A/Users/adrig/Documents/DataScienceProjects/sentiment_analysis/sentiment_analysis.ipynb#X13sZmlsZQ%3D%3D?line=19'>20</a>\u001b[0m     optimizer\u001b[39m=\u001b[39;49moptimizer,\n\u001b[0;32m     <a href='vscode-notebook-cell:/c%3A/Users/adrig/Documents/DataScienceProjects/sentiment_analysis/sentiment_analysis.ipynb#X13sZmlsZQ%3D%3D?line=20'>21</a>\u001b[0m     scheduler\u001b[39m=\u001b[39;49mscheduler,\n\u001b[0;32m     <a href='vscode-notebook-cell:/c%3A/Users/adrig/Documents/DataScienceProjects/sentiment_analysis/sentiment_analysis.ipynb#X13sZmlsZQ%3D%3D?line=21'>22</a>\u001b[0m     epochs\u001b[39m=\u001b[39;49m\u001b[39m10\u001b[39;49m,\n\u001b[0;32m     <a href='vscode-notebook-cell:/c%3A/Users/adrig/Documents/DataScienceProjects/sentiment_analysis/sentiment_analysis.ipynb#X13sZmlsZQ%3D%3D?line=22'>23</a>\u001b[0m     experiment\u001b[39m=\u001b[39;49mexp\n\u001b[0;32m     <a href='vscode-notebook-cell:/c%3A/Users/adrig/Documents/DataScienceProjects/sentiment_analysis/sentiment_analysis.ipynb#X13sZmlsZQ%3D%3D?line=23'>24</a>\u001b[0m )\n",
      "\u001b[1;32mc:\\Users\\adrig\\Documents\\DataScienceProjects\\sentiment_analysis\\sentiment_analysis.ipynb Cell 9\u001b[0m in \u001b[0;36m3\n\u001b[0;32m     <a href='vscode-notebook-cell:/c%3A/Users/adrig/Documents/DataScienceProjects/sentiment_analysis/sentiment_analysis.ipynb#X13sZmlsZQ%3D%3D?line=27'>28</a>\u001b[0m     loss\u001b[39m.\u001b[39mbackward()\n\u001b[0;32m     <a href='vscode-notebook-cell:/c%3A/Users/adrig/Documents/DataScienceProjects/sentiment_analysis/sentiment_analysis.ipynb#X13sZmlsZQ%3D%3D?line=29'>30</a>\u001b[0m     optimizer\u001b[39m.\u001b[39mstep()\n\u001b[1;32m---> <a href='vscode-notebook-cell:/c%3A/Users/adrig/Documents/DataScienceProjects/sentiment_analysis/sentiment_analysis.ipynb#X13sZmlsZQ%3D%3D?line=31'>32</a>\u001b[0m     batch_times, y_true, y_pred, best_val_f1, scheduler, val_loss, epoch_f1, epoch_val_f1 \u001b[39m=\u001b[39m epoch_status(b_idx, outputs, labels, start_batch, model, loss, start_epoch, y_true, y_pred, batch_times, best_val_f1, experiment, scheduler, criterion)\n\u001b[0;32m     <a href='vscode-notebook-cell:/c%3A/Users/adrig/Documents/DataScienceProjects/sentiment_analysis/sentiment_analysis.ipynb#X13sZmlsZQ%3D%3D?line=33'>34</a>\u001b[0m train_losses\u001b[39m.\u001b[39mappend(\u001b[39msum\u001b[39m(epoch_loss)\u001b[39m/\u001b[39m\u001b[39mlen\u001b[39m(epoch_loss))\n\u001b[0;32m     <a href='vscode-notebook-cell:/c%3A/Users/adrig/Documents/DataScienceProjects/sentiment_analysis/sentiment_analysis.ipynb#X13sZmlsZQ%3D%3D?line=34'>35</a>\u001b[0m val_losses\u001b[39m.\u001b[39mappend(val_loss)\n",
      "\u001b[1;32mc:\\Users\\adrig\\Documents\\DataScienceProjects\\sentiment_analysis\\sentiment_analysis.ipynb Cell 9\u001b[0m in \u001b[0;36m7\n\u001b[0;32m     <a href='vscode-notebook-cell:/c%3A/Users/adrig/Documents/DataScienceProjects/sentiment_analysis/sentiment_analysis.ipynb#X13sZmlsZQ%3D%3D?line=71'>72</a>\u001b[0m \u001b[39mdef\u001b[39;00m \u001b[39mepoch_status\u001b[39m(b_idx, outputs, labels, start_batch, model, loss, start_epoch, y_true, y_pred, batch_times, best_val_f1, exp, scheduler, criterion):\n\u001b[0;32m     <a href='vscode-notebook-cell:/c%3A/Users/adrig/Documents/DataScienceProjects/sentiment_analysis/sentiment_analysis.ipynb#X13sZmlsZQ%3D%3D?line=72'>73</a>\u001b[0m     perc_epoch, perc_left \u001b[39m=\u001b[39m progress_bar(b_idx)\n\u001b[1;32m---> <a href='vscode-notebook-cell:/c%3A/Users/adrig/Documents/DataScienceProjects/sentiment_analysis/sentiment_analysis.ipynb#X13sZmlsZQ%3D%3D?line=73'>74</a>\u001b[0m     accumulative_f1, y_true, y_pred \u001b[39m=\u001b[39m train_metrics(b_idx, outputs, labels, y_true, y_pred)\n\u001b[0;32m     <a href='vscode-notebook-cell:/c%3A/Users/adrig/Documents/DataScienceProjects/sentiment_analysis/sentiment_analysis.ipynb#X13sZmlsZQ%3D%3D?line=74'>75</a>\u001b[0m     eta, batch_times \u001b[39m=\u001b[39m compute_eta(b_idx, start_batch, batch_times)\n\u001b[0;32m     <a href='vscode-notebook-cell:/c%3A/Users/adrig/Documents/DataScienceProjects/sentiment_analysis/sentiment_analysis.ipynb#X13sZmlsZQ%3D%3D?line=76'>77</a>\u001b[0m     val_f1, val_loss \u001b[39m=\u001b[39m \u001b[39mFalse\u001b[39;00m, \u001b[39mFalse\u001b[39;00m\n",
      "\u001b[1;32mc:\\Users\\adrig\\Documents\\DataScienceProjects\\sentiment_analysis\\sentiment_analysis.ipynb Cell 9\u001b[0m in \u001b[0;36m1\n\u001b[0;32m     <a href='vscode-notebook-cell:/c%3A/Users/adrig/Documents/DataScienceProjects/sentiment_analysis/sentiment_analysis.ipynb#X13sZmlsZQ%3D%3D?line=10'>11</a>\u001b[0m     y_pred \u001b[39m=\u001b[39m torch\u001b[39m.\u001b[39margmax(outputs, dim\u001b[39m=\u001b[39m\u001b[39m1\u001b[39m)\u001b[39m.\u001b[39mdetach()\u001b[39m.\u001b[39mcpu()\u001b[39m.\u001b[39mnumpy()\n\u001b[0;32m     <a href='vscode-notebook-cell:/c%3A/Users/adrig/Documents/DataScienceProjects/sentiment_analysis/sentiment_analysis.ipynb#X13sZmlsZQ%3D%3D?line=11'>12</a>\u001b[0m \u001b[39melse\u001b[39;00m: \n\u001b[1;32m---> <a href='vscode-notebook-cell:/c%3A/Users/adrig/Documents/DataScienceProjects/sentiment_analysis/sentiment_analysis.ipynb#X13sZmlsZQ%3D%3D?line=12'>13</a>\u001b[0m     y_true \u001b[39m=\u001b[39m np\u001b[39m.\u001b[39mconcatenate((y_true, labels\u001b[39m.\u001b[39;49mdetach()\u001b[39m.\u001b[39;49mcpu()\u001b[39m.\u001b[39mnumpy()))\n\u001b[0;32m     <a href='vscode-notebook-cell:/c%3A/Users/adrig/Documents/DataScienceProjects/sentiment_analysis/sentiment_analysis.ipynb#X13sZmlsZQ%3D%3D?line=13'>14</a>\u001b[0m     y_pred \u001b[39m=\u001b[39m np\u001b[39m.\u001b[39mconcatenate((y_pred, torch\u001b[39m.\u001b[39margmax(outputs, dim\u001b[39m=\u001b[39m\u001b[39m1\u001b[39m)\u001b[39m.\u001b[39mdetach()\u001b[39m.\u001b[39mcpu()\u001b[39m.\u001b[39mnumpy()))\n\u001b[0;32m     <a href='vscode-notebook-cell:/c%3A/Users/adrig/Documents/DataScienceProjects/sentiment_analysis/sentiment_analysis.ipynb#X13sZmlsZQ%3D%3D?line=15'>16</a>\u001b[0m \u001b[39mreturn\u001b[39;00m f1_score(y_true, y_pred), y_true, y_pred\n",
      "\u001b[1;31mKeyboardInterrupt\u001b[0m: "
     ]
    }
   ],
   "source": [
    "model = SentimentAnalysis()\n",
    "\n",
    "criterion = nn.CrossEntropyLoss()\n",
    "optimizer = optim.AdamW(\n",
    "    params=model.parameters(),\n",
    "    lr=1e-5,\n",
    "    amsgrad=True,\n",
    "    weight_decay=0.01\n",
    ")\n",
    "scheduler = ReduceLROnPlateau(\n",
    "    optimizer=optimizer,\n",
    "    factor=0.1,\n",
    "    patience=5\n",
    ")\n",
    "\n",
    "exp = 'testing'\n",
    "model, history = train(\n",
    "    model,\n",
    "    criterion=criterion,\n",
    "    optimizer=optimizer,\n",
    "    scheduler=scheduler,\n",
    "    epochs=10,\n",
    "    experiment=exp\n",
    ")"
   ]
  },
  {
   "cell_type": "code",
   "execution_count": 36,
   "metadata": {},
   "outputs": [
    {
     "name": "stdout",
     "output_type": "stream",
     "text": [
      "<class 'dict'>\n"
     ]
    },
    {
     "name": "stderr",
     "output_type": "stream",
     "text": [
      "C:\\Users\\adrig\\AppData\\Local\\Temp\\ipykernel_21164\\2364830428.py:24: MatplotlibDeprecationWarning: Auto-removal of overlapping axes is deprecated since 3.6 and will be removed two minor releases later; explicitly call ax.remove() as needed.\n",
      "  plt.subplot(1, 2, 1)\n"
     ]
    },
    {
     "data": {
      "image/png": "[encoded data removed]",
      "text/plain": [
       "<Figure size 1200x500 with 2 Axes>"
      ]
     },
     "metadata": {},
     "output_type": "display_data"
    }
   ],
   "source": [
    "def evaluate(experiment):\n",
    "    logs = pickle.load(open(f'./models/{experiment}/logs.pkl', 'rb'))\n",
    "\n",
    "    test_model = SentimentAnalysis()\n",
    "    test_model.load_state_dict(torch.load(f'./models/{experiment}/model.pt'))\n",
    "    test_model.to(device)\n",
    "\n",
    "    test_model.eval()\n",
    "    y_pred = []\n",
    "    with torch.no_grad():\n",
    "        for batch in test_loader:\n",
    "            input_ids, attention_masks = batch['input_ids'].to(device), batch['attention_mask'].to(device)\n",
    "\n",
    "            outputs = test_model(input_ids, attention_masks)\n",
    "            batch_pred = torch.argmax(outputs, dim=1).detach().cpu().numpy()\n",
    "            y_pred.append(batch_pred)\n",
    "            \n",
    "    y_pred = np.concatenate(y_pred)\n",
    "\n",
    "    num_epochs = len(logs['train_loss'])\n",
    "\n",
    "    plt.figure(figsize=(12, 5))\n",
    "    plt.title(f'EXPERIMENT: {experiment}')\n",
    "    plt.subplot(1, 2, 1)\n",
    "    plt.title('LOSS')\n",
    "    plt.plot(range(num_epochs), logs['train_loss'])\n",
    "    plt.plot(range(num_epochs), logs['val_loss'])\n",
    "    plt.subplot(1, 2, 2)\n",
    "    plt.title('F1')\n",
    "    plt.plot(range(num_epochs), logs['train_f1'])\n",
    "    plt.plot(range(num_epochs), logs['val_f1'])\n",
    "\n",
    "    predicted_classes = {str(i): int(y) for i, y in enumerate(y_pred)}\n",
    "    predicted_classes ={'target': predicted_classes}\n",
    "\n",
    "    print(type(predicted_classes))\n",
    "\n",
    "    with open(f'./models/{experiment}/results.json', 'w') as f:\n",
    "        json.dump(predicted_classes, f)\n",
    "\n",
    "evaluate('testing')"
   ]
  }
 ],
 "metadata": {
  "kernelspec": {
   "display_name": "pytorch",
   "language": "python",
   "name": "python3"
  },
  "language_info": {
   "codemirror_mode": {
    "name": "ipython",
    "version": 3
   },
   "file_extension": ".py",
   "mimetype": "text/x-python",
   "name": "python",
   "nbconvert_exporter": "python",
   "pygments_lexer": "ipython3",
   "version": "3.9.16"
  },
  "orig_nbformat": 4
 },
 "nbformat": 4,
 "nbformat_minor": 2
}
